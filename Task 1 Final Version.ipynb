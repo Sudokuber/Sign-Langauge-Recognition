{
 "cells": [
  {
   "cell_type": "code",
   "execution_count": 1,
   "metadata": {},
   "outputs": [],
   "source": [
    "import numpy as np\n",
    "import pandas as pd\n",
    "import matplotlib.pyplot as plt\n",
    "from collections import Counter\n",
    "from sklearn.preprocessing import StandardScaler\n",
    "from sklearn.model_selection import train_test_split\n",
    "from sklearn.neighbors import KNeighborsClassifier\n",
    "from sklearn.linear_model import LogisticRegression\n",
    "from sklearn.metrics import accuracy_score, confusion_matrix, classification_report"
   ]
  },
  {
   "cell_type": "markdown",
   "metadata": {},
   "source": [
    "### Data"
   ]
  },
  {
   "cell_type": "code",
   "execution_count": 2,
   "metadata": {},
   "outputs": [],
   "source": [
    "# load train data / label\n",
    "with np.load('train_data_label.npz') as data:\n",
    "    train_data = data['train_data']\n",
    "    train_label = data['train_label']\n",
    "# load test data / label\n",
    "with np.load('test_data_label.npz') as data:\n",
    "    test_data = data['test_data']\n",
    "    test_label = data['test_label']"
   ]
  },
  {
   "cell_type": "markdown",
   "metadata": {},
   "source": [
    "#### Data inspection"
   ]
  },
  {
   "cell_type": "code",
   "execution_count": 3,
   "metadata": {},
   "outputs": [
    {
     "data": {
      "text/plain": [
       "array([[107, 118, 127, ..., 204, 203, 202],\n",
       "       [155, 157, 156, ..., 103, 135, 149],\n",
       "       [187, 188, 188, ..., 195, 194, 195],\n",
       "       [211, 211, 212, ..., 222, 229, 163],\n",
       "       [164, 167, 170, ..., 163, 164, 179]], dtype=int64)"
      ]
     },
     "execution_count": 3,
     "metadata": {},
     "output_type": "execute_result"
    }
   ],
   "source": [
    "train_data[:5,:]"
   ]
  },
  {
   "cell_type": "code",
   "execution_count": 4,
   "metadata": {},
   "outputs": [
    {
     "name": "stdout",
     "output_type": "stream",
     "text": [
      "train data type: int64\n",
      "test data type: int64\n"
     ]
    }
   ],
   "source": [
    "# no feature engineering needed \n",
    "print('train data type:',train_data.dtype)\n",
    "print('test data type:', test_data.dtype)"
   ]
  },
  {
   "cell_type": "code",
   "execution_count": 5,
   "metadata": {},
   "outputs": [
    {
     "name": "stdout",
     "output_type": "stream",
     "text": [
      "train_data size / shape: 21524720 (27455, 784)\n",
      "train_label size / shape: 27455 (27455,)\n",
      "test_data size / shape: 5622848 (7172, 784)\n",
      "test_label size / shape: 7172 (7172,)\n"
     ]
    }
   ],
   "source": [
    "# train_set shape (27455, 784)\n",
    "print('train_data size / shape:', train_data.size, train_data.shape)\n",
    "# train_label shape(27455,)\n",
    "print('train_label size / shape:', train_label.size, train_label.shape)\n",
    "# test_set shape (7172, 784)\n",
    "print('test_data size / shape:', test_data.size, test_data.shape)\n",
    "# test_label shape (7172,)\n",
    "print('test_label size / shape:', test_label.size, test_label.shape)"
   ]
  },
  {
   "cell_type": "code",
   "execution_count": 6,
   "metadata": {},
   "outputs": [
    {
     "data": {
      "text/plain": [
       "Text(0.5, 1.0, 'Label Proportions')"
      ]
     },
     "execution_count": 6,
     "metadata": {},
     "output_type": "execute_result"
    },
    {
     "data": {
      "image/png": "[encoded data removed]",
      "text/plain": [
       "<Figure size 432x288 with 1 Axes>"
      ]
     },
     "metadata": {
      "needs_background": "light"
     },
     "output_type": "display_data"
    }
   ],
   "source": [
    "# the proportion of classes in train_set is relatively balanced, no outliers\n",
    "classes = dict(Counter(train_label))\n",
    "sorted_classes = list(sorted(classes.items()))\n",
    "label, count = zip(*sorted_classes)\n",
    "percentage = [round(i/sum(count)*100, 2) for i in count]\n",
    "plt.plot(label, percentage)\n",
    "plt.ylim(0, 100)\n",
    "plt.xticks(label, label)\n",
    "plt.grid()\n",
    "plt.ylabel('Proportion(%)', size=12)\n",
    "plt.xlabel('Labels', size=12)\n",
    "plt.title('Label Proportions', size=20)"
   ]
  },
  {
   "cell_type": "code",
   "execution_count": 7,
   "metadata": {},
   "outputs": [
    {
     "name": "stdout",
     "output_type": "stream",
     "text": [
      "[]\n",
      "[]\n"
     ]
    }
   ],
   "source": [
    "# no missing values in train_data\n",
    "train_na = np.isnan(train_data)\n",
    "print(train_na[train_na == True])\n",
    "\n",
    "# no missing values in train_label\n",
    "label_na = np.isnan(train_label)\n",
    "print(label_na[label_na == True])"
   ]
  },
  {
   "cell_type": "code",
   "execution_count": 8,
   "metadata": {},
   "outputs": [],
   "source": [
    "# optional feature transformation - feature scaling (Standardization)\n",
    "scaler = StandardScaler()\n",
    "train = scaler.fit_transform(train_data)\n",
    "test = scaler.transform(test_data)"
   ]
  },
  {
   "cell_type": "code",
   "execution_count": 9,
   "metadata": {},
   "outputs": [],
   "source": [
    "# split data\n",
    "X_train, X_val, y_train, y_val = train_test_split(train, train_label, test_size=0.3, random_state=42)"
   ]
  },
  {
   "cell_type": "markdown",
   "metadata": {},
   "source": [
    "### Model KNN"
   ]
  },
  {
   "cell_type": "code",
   "execution_count": 5,
   "metadata": {
    "scrolled": true
   },
   "outputs": [],
   "source": [
    "# initial model\n",
    "knn = KNeighborsClassifier()\n",
    "knn.fit(X_train, y_train)\n",
    "y_pred = knn.predict(X_val)"
   ]
  },
  {
   "cell_type": "code",
   "execution_count": 6,
   "metadata": {},
   "outputs": [
    {
     "data": {
      "text/plain": [
       "0.9918659706203715"
      ]
     },
     "execution_count": 6,
     "metadata": {},
     "output_type": "execute_result"
    }
   ],
   "source": [
    "accuracy_score(y_val, y_pred)"
   ]
  },
  {
   "cell_type": "code",
   "execution_count": 7,
   "metadata": {},
   "outputs": [
    {
     "name": "stdout",
     "output_type": "stream",
     "text": [
      "              precision    recall  f1-score   support\n",
      "\n",
      "           0       0.99      1.00      0.99       327\n",
      "           1       0.99      1.00      0.99       275\n",
      "           2       1.00      1.00      1.00       335\n",
      "           3       0.99      1.00      0.99       375\n",
      "           4       0.99      0.99      0.99       293\n",
      "           5       1.00      1.00      1.00       373\n",
      "           6       0.99      1.00      1.00       323\n",
      "           7       1.00      0.99      0.99       299\n",
      "           8       1.00      0.98      0.99       356\n",
      "          10       0.99      0.99      0.99       331\n",
      "          11       1.00      0.99      1.00       387\n",
      "          12       0.97      0.98      0.97       342\n",
      "          13       0.98      0.98      0.98       339\n",
      "          14       1.00      1.00      1.00       354\n",
      "          15       1.00      1.00      1.00       315\n",
      "          16       1.00      1.00      1.00       406\n",
      "          17       0.98      0.99      0.99       393\n",
      "          18       0.99      0.98      0.99       407\n",
      "          19       0.99      1.00      0.99       340\n",
      "          20       0.99      0.99      0.99       346\n",
      "          21       0.99      0.98      0.99       295\n",
      "          22       0.99      0.97      0.98       372\n",
      "          23       0.99      0.99      0.99       346\n",
      "          24       0.99      1.00      0.99       308\n",
      "\n",
      "    accuracy                           0.99      8237\n",
      "   macro avg       0.99      0.99      0.99      8237\n",
      "weighted avg       0.99      0.99      0.99      8237\n",
      "\n"
     ]
    }
   ],
   "source": [
    "print(classification_report(y_val, y_pred))"
   ]
  },
  {
   "cell_type": "code",
   "execution_count": 8,
   "metadata": {},
   "outputs": [],
   "source": [
    "# Hyperparameter settings\n",
    "n_neighbors = list(range(1, 10, 2))\n",
    "leaf_size = list(range(20, 40, 2))\n",
    "# p = [1, 2]"
   ]
  },
  {
   "cell_type": "code",
   "execution_count": null,
   "metadata": {},
   "outputs": [],
   "source": [
    "# tuning\n",
    "predictions = []\n",
    "results = []\n",
    "n = 1\n",
    "for k in n_neighbors:\n",
    "    for leaf in leaf_size:\n",
    "        clf = KNeighborsClassifier(n_neighbors=k, leaf_size=leaf)\n",
    "        clf.fit(X_train, y_train)\n",
    "        y_pred = clf.predict(X_val)\n",
    "        predictions.append(y_pred)\n",
    "        results.append([n, k, leaf, accuracy_score(y_val, y_pred)])     \n",
    "        n += 1"
   ]
  },
  {
   "cell_type": "code",
   "execution_count": null,
   "metadata": {},
   "outputs": [],
   "source": [
    "results_np = np.array(results)\n",
    "print(results_np[:10, :])\n",
    "print()\n",
    "print(results_np[10:20, :])\n",
    "print()\n",
    "print(results_np[20:30, :])\n",
    "print()\n",
    "print(results_np[30:40, :])\n",
    "# when k=1, accuracy is high"
   ]
  },
  {
   "cell_type": "code",
   "execution_count": 39,
   "metadata": {},
   "outputs": [
    {
     "name": "stdout",
     "output_type": "stream",
     "text": [
      "              precision    recall  f1-score   support\n",
      "\n",
      "           0       0.85      0.99      0.92       331\n",
      "           1       0.94      0.91      0.93       432\n",
      "           2       0.95      1.00      0.97       310\n",
      "           3       0.81      0.95      0.87       245\n",
      "           4       0.79      0.98      0.87       498\n",
      "           5       1.00      0.95      0.97       247\n",
      "           6       0.92      0.93      0.93       348\n",
      "           7       0.97      0.97      0.97       436\n",
      "           8       0.91      0.66      0.76       288\n",
      "          10       0.82      0.61      0.70       331\n",
      "          11       0.95      0.89      0.92       209\n",
      "          12       0.79      0.55      0.65       394\n",
      "          13       0.78      0.65      0.71       291\n",
      "          14       1.00      0.90      0.94       246\n",
      "          15       1.00      1.00      1.00       347\n",
      "          16       0.94      1.00      0.97       164\n",
      "          17       0.38      0.59      0.46       144\n",
      "          18       0.68      0.83      0.75       246\n",
      "          19       0.69      0.70      0.69       248\n",
      "          20       0.43      0.72      0.54       266\n",
      "          21       0.67      0.57      0.62       346\n",
      "          22       0.71      0.61      0.66       206\n",
      "          23       0.78      0.70      0.74       267\n",
      "          24       0.89      0.69      0.78       332\n",
      "\n",
      "    accuracy                           0.82      7172\n",
      "   macro avg       0.82      0.81      0.80      7172\n",
      "weighted avg       0.83      0.82      0.82      7172\n",
      "\n"
     ]
    }
   ],
   "source": [
    "# test set k=1\n",
    "knn_k1 = KNeighborsClassifier(n_neighbors=1)\n",
    "knn_k1.fit(train, train_label)\n",
    "y_pred_k1 = knn_k1.predict(test)\n",
    "print(classification_report(test_label, y_pred_k1))\n"
   ]
  },
  {
   "cell_type": "code",
   "execution_count": 43,
   "metadata": {},
   "outputs": [
    {
     "name": "stdout",
     "output_type": "stream",
     "text": [
      "[[329   0   0   0   2   0   0   0   0   0   0   0   0   0   0   0   0   0\n",
      "    0   0   0   0   0   0]\n",
      " [  0 393   0  19   0   0   0   0   0   6   0   0   0   0   0   0   0   0\n",
      "    0   5   7   2   0   0]\n",
      " [  0   0 310   0   0   0   0   0   0   0   0   0   0   0   0   0   0   0\n",
      "    0   0   0   0   0   0]\n",
      " [  0   3   0 232   0   0   0   0   0   0   0   0   0   0   0   0  10   0\n",
      "    0   0   0   0   0   0]\n",
      " [  0   0   0   0 490   0   0   0   0   0   0   0   3   0   0   0   0   5\n",
      "    0   0   0   0   0   0]\n",
      " [  0   0   1   0   0 234   1   0   0   0   3   0   0   0   0   0   0   0\n",
      "    7   0   0   1   0   0]\n",
      " [  0   0   0   0   0   0 325   2   0   0   0   0   0   0   0   0   0   0\n",
      "   21   0   0   0   0   0]\n",
      " [  0   0   0   0   0   0  12 422   1   0   0   0   0   0   0   0   0   0\n",
      "    1   0   0   0   0   0]\n",
      " [ 17   0   1   3  20   1   1   0 189   0   0   3   5   0   0   0   0  19\n",
      "    0   0   2   0   0  27]\n",
      " [  0   8   0  17   0   0   0   0   1 203   0   0   0   0   0   2  22   0\n",
      "    0  43  20  15   0   0]\n",
      " [  0   0   0   0   0   0   0   6   0   0 186   0   0   0   0   0   0   0\n",
      "   17   0   0   0   0   0]\n",
      " [ 32   0   0   0  38   0   0   0   0   0   0 217  43   0   0   0   0  63\n",
      "    0   0   0   0   0   1]\n",
      " [ 10   0   0   2  59   0   0   0   0   0   0  26 189   1   0   0   0   4\n",
      "    0   0   0   0   0   0]\n",
      " [  0   0  14   2   1   0   0   0   0   0   0   0   0 221   0   0   3   5\n",
      "    0   0   0   0   0   0]\n",
      " [  0   0   0   0   0   0   0   0   0   0   0   0   0   0 347   0   0   0\n",
      "    0   0   0   0   0   0]\n",
      " [  0   0   0   0   0   0   0   0   0   0   0   0   0   0   0 164   0   0\n",
      "    0   0   0   0   0   0]\n",
      " [  0   0   0   0   0   0   0   0   0   0   0   0   0   0   0   0  85   0\n",
      "    0  58   1   0   0   0]\n",
      " [  0   0   0   0  14   0   0   0   0   0   0  27   1   0   0   0   0 204\n",
      "    0   0   0   0   0   0]\n",
      " [  0   0   0   9   0   0  11   5   0   0   0   0   0   0   0   0   0   0\n",
      "  174   0   5   0  44   0]\n",
      " [  0  13   0   0   0   0   0   0   0  22   0   0   0   0   0   0  18   0\n",
      "    0 192  21   0   0   0]\n",
      " [  0   0   0   0   0   0   0   0   0   9   7   0   0   0   0   2   3   0\n",
      "   16  93 198   9   9   0]\n",
      " [  0   0   0   0   0   0   0   0   0   8   0   0   0   0   0   0  28   0\n",
      "    0  31  14 125   0   0]\n",
      " [  0   0   0   3   0   0   0   0   0   1   0   0   0   0   0   6  21   0\n",
      "   17   8   0  23 188   0]\n",
      " [  0   0   0   0   0   0   3   2  17   0   0   1   0   0   0   0  33   0\n",
      "    0  20  26   0   0 230]]\n"
     ]
    }
   ],
   "source": [
    "print(confusion_matrix(test_label, y_pred_k1))"
   ]
  },
  {
   "cell_type": "markdown",
   "metadata": {},
   "source": [
    "### Model 2 LogisticRegression"
   ]
  },
  {
   "cell_type": "code",
   "execution_count": null,
   "metadata": {},
   "outputs": [],
   "source": [
    "# initial model \n",
    "lr_base = LogisticRegression()\n",
    "lr_base.fit(X_train, y_train)\n",
    "y_pred_base = lr_base.predict(X_val)\n",
    "print(classification_report(y_val, y_pred_base))"
   ]
  },
  {
   "cell_type": "markdown",
   "metadata": {},
   "source": [
    "#### LogisticRegression Hyperparameter Tuning "
   ]
  },
  {
   "cell_type": "code",
   "execution_count": 49,
   "metadata": {},
   "outputs": [],
   "source": [
    "# hyperparameters settings\n",
    "\n",
    "solvers = ['lbfgs', 'saga']\n",
    "penalties = ['l2', 'none']\n",
    "multi_class = 'multinomial'\n",
    "C = [100, 10, 1, 0.1, 0.01]\n",
    "max_iter = [100, 1000]\n",
    "random_state = 42\n"
   ]
  },
  {
   "cell_type": "code",
   "execution_count": null,
   "metadata": {},
   "outputs": [],
   "source": [
    "# tuning\n",
    "pred_lr = []\n",
    "result_lr = []\n",
    "n = 1\n",
    "for solver in solvers:\n",
    "    for penalty in penalties:\n",
    "        for c in C:\n",
    "            lr = LogisticRegression(penalty=penalty, \n",
    "                                    C=c, \n",
    "                                    random_state=random_state, \n",
    "                                    multi_class=multi_class, \n",
    "                                    max_iter=100, \n",
    "                                    solver=solver)\n",
    "            lr.fit(X_train, y_train)\n",
    "            y_pred_lr = lr.predict(X_val)\n",
    "            pred_lr.append(y_pred_lr)\n",
    "            result_lr.append([n, solver, penalty, c, i, accuracy_score(y_val, y_pred_lr)])\n",
    "            n += 1\n"
   ]
  },
  {
   "cell_type": "code",
   "execution_count": 53,
   "metadata": {},
   "outputs": [
    {
     "data": {
      "text/plain": [
       "array([['1', 'lbfgs', 'l2', '100', '100', '1.0'],\n",
       "       ['2', 'lbfgs', 'l2', '10', '100', '0.9998785965764234'],\n",
       "       ['3', 'lbfgs', 'l2', '1', '100', '0.9998785965764234'],\n",
       "       ['4', 'lbfgs', 'l2', '0.1', '100', '0.9995143863056938'],\n",
       "       ['5', 'lbfgs', 'l2', '0.01', '100', '0.9979361417991988'],\n",
       "       ['6', 'lbfgs', 'none', '100', '100', '0.9998785965764234'],\n",
       "       ['7', 'lbfgs', 'none', '10', '100', '0.9998785965764234'],\n",
       "       ['8', 'lbfgs', 'none', '1', '100', '0.9998785965764234'],\n",
       "       ['9', 'lbfgs', 'none', '0.1', '100', '0.9998785965764234'],\n",
       "       ['10', 'lbfgs', 'none', '0.01', '100', '0.9998785965764234'],\n",
       "       ['11', 'saga', 'l2', '100', '100', '0.9995143863056938'],\n",
       "       ['12', 'saga', 'l2', '10', '100', '0.9995143863056938'],\n",
       "       ['13', 'saga', 'l2', '1', '100', '0.9995143863056938'],\n",
       "       ['14', 'saga', 'l2', '0.1', '100', '0.9993929828821173'],\n",
       "       ['15', 'saga', 'l2', '0.01', '100', '0.9979361417991988'],\n",
       "       ['16', 'saga', 'none', '100', '100', '0.9995143863056938'],\n",
       "       ['17', 'saga', 'none', '10', '100', '0.9995143863056938'],\n",
       "       ['18', 'saga', 'none', '1', '100', '0.9995143863056938'],\n",
       "       ['19', 'saga', 'none', '0.1', '100', '0.9995143863056938'],\n",
       "       ['20', 'saga', 'none', '0.01', '100', '0.9995143863056938']],\n",
       "      dtype='<U18')"
      ]
     },
     "execution_count": 53,
     "metadata": {},
     "output_type": "execute_result"
    }
   ],
   "source": [
    "# show first 20 results\n",
    "result_lr_np = np.array(result_lr)\n",
    "result_lr_np[:20]"
   ]
  },
  {
   "cell_type": "code",
   "execution_count": 56,
   "metadata": {},
   "outputs": [
    {
     "data": {
      "text/plain": [
       "array(['1', 'lbfgs', 'l2', '100', '100', '1.0'], dtype='<U18')"
      ]
     },
     "execution_count": 56,
     "metadata": {},
     "output_type": "execute_result"
    }
   ],
   "source": [
    "# best params\n",
    "result_lr_np[0]"
   ]
  },
  {
   "cell_type": "code",
   "execution_count": 60,
   "metadata": {},
   "outputs": [
    {
     "name": "stdout",
     "output_type": "stream",
     "text": [
      "              precision    recall  f1-score   support\n",
      "\n",
      "           0       0.80      1.00      0.89       331\n",
      "           1       0.95      0.90      0.93       432\n",
      "           2       0.93      0.86      0.89       310\n",
      "           3       0.91      0.81      0.86       245\n",
      "           4       0.87      0.89      0.88       498\n",
      "           5       0.68      0.91      0.78       247\n",
      "           6       0.83      0.85      0.84       348\n",
      "           7       0.76      0.76      0.76       436\n",
      "           8       0.63      0.65      0.64       288\n",
      "          10       0.64      0.37      0.47       331\n",
      "          11       0.56      0.79      0.66       209\n",
      "          12       0.72      0.69      0.70       394\n",
      "          13       0.65      0.56      0.60       291\n",
      "          14       0.99      0.61      0.76       246\n",
      "          15       0.94      0.99      0.96       347\n",
      "          16       0.71      0.74      0.73       164\n",
      "          17       0.18      0.43      0.25       144\n",
      "          18       0.45      0.43      0.44       246\n",
      "          19       0.42      0.33      0.37       248\n",
      "          20       0.34      0.46      0.39       266\n",
      "          21       0.69      0.47      0.56       346\n",
      "          22       0.42      0.62      0.50       206\n",
      "          23       0.68      0.49      0.57       267\n",
      "          24       0.75      0.57      0.64       332\n",
      "\n",
      "    accuracy                           0.69      7172\n",
      "   macro avg       0.69      0.67      0.67      7172\n",
      "weighted avg       0.72      0.69      0.70      7172\n",
      "\n"
     ]
    },
    {
     "name": "stderr",
     "output_type": "stream",
     "text": [
      "C:\\Users\\abc\\AppData\\Roaming\\Python\\Python37\\site-packages\\sklearn\\linear_model\\_logistic.py:765: ConvergenceWarning: lbfgs failed to converge (status=1):\n",
      "STOP: TOTAL NO. of ITERATIONS REACHED LIMIT.\n",
      "\n",
      "Increase the number of iterations (max_iter) or scale the data as shown in:\n",
      "    https://scikit-learn.org/stable/modules/preprocessing.html\n",
      "Please also refer to the documentation for alternative solver options:\n",
      "    https://scikit-learn.org/stable/modules/linear_model.html#logistic-regression\n",
      "  extra_warning_msg=_LOGISTIC_SOLVER_CONVERGENCE_MSG)\n"
     ]
    }
   ],
   "source": [
    "# train model on entire dataset with best params (new)\n",
    "\n",
    "lr_best = LogisticRegression(solver='lbfgs', penalty='l2', C=100)\n",
    "lr_best.fit(train, train_label)\n",
    "y_pred_best = lr_best.predict(test)\n",
    "print(classification_report(test_label, y_pred_best))"
   ]
  },
  {
   "cell_type": "code",
   "execution_count": null,
   "metadata": {},
   "outputs": [],
   "source": [
    "# Confusion matrix\n",
    "lr_confusion = confusion_matrix(test_label, y_pred_best)\n",
    "print(lr_confusion)"
   ]
  },
  {
   "cell_type": "markdown",
   "metadata": {},
   "source": [
    "### Model comparison"
   ]
  },
  {
   "cell_type": "code",
   "execution_count": 62,
   "metadata": {},
   "outputs": [
    {
     "data": {
      "text/html": [
       "<div>\n",
       "<style scoped>\n",
       "    .dataframe tbody tr th:only-of-type {\n",
       "        vertical-align: middle;\n",
       "    }\n",
       "\n",
       "    .dataframe tbody tr th {\n",
       "        vertical-align: top;\n",
       "    }\n",
       "\n",
       "    .dataframe thead th {\n",
       "        text-align: right;\n",
       "    }\n",
       "</style>\n",
       "<table border=\"1\" class=\"dataframe\">\n",
       "  <thead>\n",
       "    <tr style=\"text-align: right;\">\n",
       "      <th></th>\n",
       "      <th>Model</th>\n",
       "      <th>Val_accuracy</th>\n",
       "      <th>Test_accuracy</th>\n",
       "    </tr>\n",
       "  </thead>\n",
       "  <tbody>\n",
       "    <tr>\n",
       "      <th>0</th>\n",
       "      <td>LogisticRegression</td>\n",
       "      <td>1.0</td>\n",
       "      <td>0.69</td>\n",
       "    </tr>\n",
       "    <tr>\n",
       "      <th>1</th>\n",
       "      <td>KNeighborsClassifier</td>\n",
       "      <td>0.997451</td>\n",
       "      <td>0.82</td>\n",
       "    </tr>\n",
       "  </tbody>\n",
       "</table>\n",
       "</div>"
      ],
      "text/plain": [
       "                  Model Val_accuracy  Test_accuracy\n",
       "0    LogisticRegression          1.0           0.69\n",
       "1  KNeighborsClassifier     0.997451           0.82"
      ]
     },
     "execution_count": 62,
     "metadata": {},
     "output_type": "execute_result"
    }
   ],
   "source": [
    "data2 = {'Model': ['LogisticRegression', 'KNeighborsClassifier'],\n",
    "        'Val_accuracy': [result_lr_np[0,-1], results_np[0,-1]], \n",
    "        'Test_accuracy':[round(accuracy_score(test_label, y_pred_best),2), round(accuracy_score(test_label, y_pred_k1),2)]}\n",
    "pd.DataFrame(data2)"
   ]
  },
  {
   "cell_type": "markdown",
   "metadata": {},
   "source": [
    "---------------------------------------------------------------------------"
   ]
  }
 ],
 "metadata": {
  "kernelspec": {
   "display_name": "Python 3",
   "language": "python",
   "name": "python3"
  },
  "language_info": {
   "codemirror_mode": {
    "name": "ipython",
    "version": 3
   },
   "file_extension": ".py",
   "mimetype": "text/x-python",
   "name": "python",
   "nbconvert_exporter": "python",
   "pygments_lexer": "ipython3",
   "version": "3.7.7"
  }
 },
 "nbformat": 4,
 "nbformat_minor": 4
}
